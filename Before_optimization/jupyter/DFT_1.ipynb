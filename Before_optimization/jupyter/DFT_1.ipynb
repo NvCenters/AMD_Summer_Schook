{
 "cells": [
  {
   "cell_type": "code",
   "execution_count": 1,
   "id": "c9e3a5ee",
   "metadata": {},
   "outputs": [
    {
     "data": {
      "application/javascript": [
       "\n",
       "try {\n",
       "require(['notebook/js/codecell'], function(codecell) {\n",
       "  codecell.CodeCell.options_default.highlight_modes[\n",
       "      'magic_text/x-csrc'] = {'reg':[/^%%microblaze/]};\n",
       "  Jupyter.notebook.events.one('kernel_ready.Kernel', function(){\n",
       "      Jupyter.notebook.get_cells().map(function(cell){\n",
       "          if (cell.cell_type == 'code'){ cell.auto_highlight(); } }) ;\n",
       "  });\n",
       "});\n",
       "} catch (e) {};\n"
      ]
     },
     "metadata": {},
     "output_type": "display_data"
    },
    {
     "data": {
      "application/javascript": [
       "\n",
       "try {\n",
       "require(['notebook/js/codecell'], function(codecell) {\n",
       "  codecell.CodeCell.options_default.highlight_modes[\n",
       "      'magic_text/x-csrc'] = {'reg':[/^%%pybind11/]};\n",
       "  Jupyter.notebook.events.one('kernel_ready.Kernel', function(){\n",
       "      Jupyter.notebook.get_cells().map(function(cell){\n",
       "          if (cell.cell_type == 'code'){ cell.auto_highlight(); } }) ;\n",
       "  });\n",
       "});\n",
       "} catch (e) {};\n"
      ]
     },
     "metadata": {},
     "output_type": "display_data"
    }
   ],
   "source": [
    "import sys\n",
    "import numpy as np\n",
    "from time import time\n",
    "from pynq import Overlay\n",
    "from pynq import allocate\n",
    "from scipy.linalg import dft"
   ]
  },
  {
   "cell_type": "code",
   "execution_count": 2,
   "id": "7fdc9a33",
   "metadata": {},
   "outputs": [
    {
     "name": "stdout",
     "output_type": "stream",
     "text": [
      "[0.09084121 0.09084169 0.09084311 ... 0.09084548 0.09084311 0.09084169]\n",
      "[ 0.          0.00105807  0.00211636 ... -0.00317508 -0.00211636\n",
      " -0.00105807]\n"
     ]
    }
   ],
   "source": [
    "ol=Overlay('DFT.bit')\n",
    "SIZE = 1024\n",
    "\n",
    "a = [i for i in range(SIZE)]\n",
    "a=np.sin(a)\n",
    "golden_op=np.fft.fft(a)\n",
    "print(golden_op.real)\n",
    "print(golden_op.imag)"
   ]
  },
  {
   "cell_type": "code",
   "execution_count": 22,
   "id": "d368192c",
   "metadata": {},
   "outputs": [
    {
     "name": "stdout",
     "output_type": "stream",
     "text": [
      "耗时：: 0.17218661308288574 s\n",
      "[0.09084147 0.09084266 0.09084213 ... 0.0908435  0.09084213 0.09084266]\n",
      "[ 0.          0.00103074  0.00211746 ... -0.00314563 -0.00211746\n",
      " -0.00103074]\n"
     ]
    }
   ],
   "source": [
    "#内存分配\n",
    "in_real = allocate(shape=(SIZE,), dtype=np.float32) \n",
    "in_img = allocate(shape=(SIZE,), dtype=np.float32)           \n",
    "out_real = allocate(shape=(SIZE,), dtype=np.float32) \n",
    "out_img = allocate(shape=(SIZE,), dtype=np.float32)\n",
    "np.copyto(in_real, a.real)\n",
    "np.copyto(in_img, a.imag)\n",
    "\n",
    "DFT = ol.dft_0\n",
    "start_time = time()\n",
    "\n",
    "DFT.write(0x10, out_real.device_address)\n",
    "DFT.write(0x18, out_img.device_address)\n",
    "DFT.write(0x20, in_real.device_address)\n",
    "DFT.write(0x28, in_img.device_address)\n",
    "DFT.write(0x00, 0x01)\n",
    "\n",
    "while (DFT.read(0x00) & 0x4) == 0x0:\n",
    "    continue\n",
    "end_time = time()\n",
    "print(\"耗时：: \" + str(end_time - start_time) + \" s\")\n",
    "print(out_real)\n",
    "print(out_img)"
   ]
  },
  {
   "cell_type": "code",
   "execution_count": 39,
   "id": "6bc893b4",
   "metadata": {},
   "outputs": [
    {
     "name": "stdout",
     "output_type": "stream",
     "text": [
      "Real RMSE:  4.874109338230976e-06 Imag RMSE: 1.0921184788292064e-05\n",
      "PASS\n"
     ]
    }
   ],
   "source": [
    "#计算RMS误差\n",
    "for i in range(SIZE):\n",
    "    real_error[i]=\"{}\".format(abs(out_real[i]-golden_op.real[i]))\n",
    "    imag_error[i]=\"{}\".format(abs(out_img[i]-golden_op.imag[i]))\n",
    "sum_sq_real=0\n",
    "sum_sq_imag=0\n",
    "for i in range(SIZE):\n",
    "    sum_sq_real +=(real_error[i]*real_error[i])\n",
    "    real_rmse = np.sqrt(sum_sq_real / (i+1))\n",
    "    sum_sq_imag +=(imag_error[i]*imag_error[i])\n",
    "    imag_rmse = np.sqrt(sum_sq_imag / (i+1))\n",
    "print(\"Real RMSE: \", real_rmse, \"Imag RMSE:\", imag_rmse)    \n",
    "if real_rmse < 0.001 and imag_rmse < 0.001:\n",
    "    print(\"PASS\")\n",
    "else:\n",
    "    print(\"FAIL\")"
   ]
  },
  {
   "cell_type": "code",
   "execution_count": 36,
   "id": "79e4444a",
   "metadata": {},
   "outputs": [
    {
     "data": {
      "text/plain": [
       "array([0.09084121+0.j        , 0.09084169+0.00105807j,\n",
       "       0.09084311+0.00211636j, ..., 0.09084548-0.00317508j,\n",
       "       0.09084311-0.00211636j, 0.09084169-0.00105807j])"
      ]
     },
     "execution_count": 36,
     "metadata": {},
     "output_type": "execute_result"
    }
   ],
   "source": [
    "golden_op"
   ]
  },
  {
   "cell_type": "code",
   "execution_count": 37,
   "id": "0a923be9",
   "metadata": {},
   "outputs": [
    {
     "ename": "IndexError",
     "evalue": "tuple index out of range",
     "output_type": "error",
     "traceback": [
      "\u001b[0;31m---------------------------------------------------------------------------\u001b[0m",
      "\u001b[0;31mIndexError\u001b[0m                                Traceback (most recent call last)",
      "\u001b[0;32m<ipython-input-37-13c1e1ace472>\u001b[0m in \u001b[0;36m<module>\u001b[0;34m\u001b[0m\n\u001b[0;32m----> 1\u001b[0;31m \u001b[0mgolden_op\u001b[0m\u001b[0;34m=\u001b[0m\u001b[0mnp\u001b[0m\u001b[0;34m.\u001b[0m\u001b[0mfft\u001b[0m\u001b[0;34m.\u001b[0m\u001b[0mfft\u001b[0m\u001b[0;34m(\u001b[0m\u001b[0ma\u001b[0m\u001b[0;34m)\u001b[0m\u001b[0;34m\u001b[0m\u001b[0;34m\u001b[0m\u001b[0m\n\u001b[0m",
      "\u001b[0;32m<__array_function__ internals>\u001b[0m in \u001b[0;36mfft\u001b[0;34m(*args, **kwargs)\u001b[0m\n",
      "\u001b[0;32m/usr/local/share/pynq-venv/lib/python3.8/site-packages/numpy/fft/_pocketfft.py\u001b[0m in \u001b[0;36mfft\u001b[0;34m(a, n, axis, norm)\u001b[0m\n\u001b[1;32m    211\u001b[0m     \u001b[0ma\u001b[0m \u001b[0;34m=\u001b[0m \u001b[0masarray\u001b[0m\u001b[0;34m(\u001b[0m\u001b[0ma\u001b[0m\u001b[0;34m)\u001b[0m\u001b[0;34m\u001b[0m\u001b[0;34m\u001b[0m\u001b[0m\n\u001b[1;32m    212\u001b[0m     \u001b[0;32mif\u001b[0m \u001b[0mn\u001b[0m \u001b[0;32mis\u001b[0m \u001b[0;32mNone\u001b[0m\u001b[0;34m:\u001b[0m\u001b[0;34m\u001b[0m\u001b[0;34m\u001b[0m\u001b[0m\n\u001b[0;32m--> 213\u001b[0;31m         \u001b[0mn\u001b[0m \u001b[0;34m=\u001b[0m \u001b[0ma\u001b[0m\u001b[0;34m.\u001b[0m\u001b[0mshape\u001b[0m\u001b[0;34m[\u001b[0m\u001b[0maxis\u001b[0m\u001b[0;34m]\u001b[0m\u001b[0;34m\u001b[0m\u001b[0;34m\u001b[0m\u001b[0m\n\u001b[0m\u001b[1;32m    214\u001b[0m     \u001b[0minv_norm\u001b[0m \u001b[0;34m=\u001b[0m \u001b[0m_get_forward_norm\u001b[0m\u001b[0;34m(\u001b[0m\u001b[0mn\u001b[0m\u001b[0;34m,\u001b[0m \u001b[0mnorm\u001b[0m\u001b[0;34m)\u001b[0m\u001b[0;34m\u001b[0m\u001b[0;34m\u001b[0m\u001b[0m\n\u001b[1;32m    215\u001b[0m     \u001b[0moutput\u001b[0m \u001b[0;34m=\u001b[0m \u001b[0m_raw_fft\u001b[0m\u001b[0;34m(\u001b[0m\u001b[0ma\u001b[0m\u001b[0;34m,\u001b[0m \u001b[0mn\u001b[0m\u001b[0;34m,\u001b[0m \u001b[0maxis\u001b[0m\u001b[0;34m,\u001b[0m \u001b[0;32mFalse\u001b[0m\u001b[0;34m,\u001b[0m \u001b[0;32mTrue\u001b[0m\u001b[0;34m,\u001b[0m \u001b[0minv_norm\u001b[0m\u001b[0;34m)\u001b[0m\u001b[0;34m\u001b[0m\u001b[0;34m\u001b[0m\u001b[0m\n",
      "\u001b[0;31mIndexError\u001b[0m: tuple index out of range"
     ]
    }
   ],
   "source": []
  },
  {
   "cell_type": "code",
   "execution_count": null,
   "id": "3139a44d",
   "metadata": {},
   "outputs": [],
   "source": []
  }
 ],
 "metadata": {
  "kernelspec": {
   "display_name": "Python 3",
   "language": "python",
   "name": "python3"
  },
  "language_info": {
   "codemirror_mode": {
    "name": "ipython",
    "version": 3
   },
   "file_extension": ".py",
   "mimetype": "text/x-python",
   "name": "python",
   "nbconvert_exporter": "python",
   "pygments_lexer": "ipython3",
   "version": "3.8.2"
  }
 },
 "nbformat": 4,
 "nbformat_minor": 5
}
