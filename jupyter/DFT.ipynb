{
 "cells": [
  {
   "cell_type": "code",
   "execution_count": 1,
   "id": "4d6a48c0",
   "metadata": {},
   "outputs": [
    {
     "data": {
      "application/javascript": [
       "\n",
       "try {\n",
       "require(['notebook/js/codecell'], function(codecell) {\n",
       "  codecell.CodeCell.options_default.highlight_modes[\n",
       "      'magic_text/x-csrc'] = {'reg':[/^%%microblaze/]};\n",
       "  Jupyter.notebook.events.one('kernel_ready.Kernel', function(){\n",
       "      Jupyter.notebook.get_cells().map(function(cell){\n",
       "          if (cell.cell_type == 'code'){ cell.auto_highlight(); } }) ;\n",
       "  });\n",
       "});\n",
       "} catch (e) {};\n"
      ]
     },
     "metadata": {},
     "output_type": "display_data"
    },
    {
     "data": {
      "application/javascript": [
       "\n",
       "try {\n",
       "require(['notebook/js/codecell'], function(codecell) {\n",
       "  codecell.CodeCell.options_default.highlight_modes[\n",
       "      'magic_text/x-csrc'] = {'reg':[/^%%pybind11/]};\n",
       "  Jupyter.notebook.events.one('kernel_ready.Kernel', function(){\n",
       "      Jupyter.notebook.get_cells().map(function(cell){\n",
       "          if (cell.cell_type == 'code'){ cell.auto_highlight(); } }) ;\n",
       "  });\n",
       "});\n",
       "} catch (e) {};\n"
      ]
     },
     "metadata": {},
     "output_type": "display_data"
    }
   ],
   "source": [
    "import sys\n",
    "import numpy as np\n",
    "from time import time\n",
    "from pynq import Overlay\n",
    "from pynq import allocate\n",
    "from scipy.linalg import dft"
   ]
  },
  {
   "cell_type": "code",
   "execution_count": 14,
   "id": "a8b0d1be",
   "metadata": {},
   "outputs": [
    {
     "name": "stdout",
     "output_type": "stream",
     "text": [
      "[-0.0479323  -0.04793777 -0.04795417 ... -0.04798153 -0.04795417\n",
      " -0.04793777]\n",
      "[ 0.          0.00114247  0.00228518 ... -0.00342836 -0.00228518\n",
      " -0.00114247]\n"
     ]
    }
   ],
   "source": [
    "ol=Overlay('DFT.bit')\n",
    "SIZE = 1024\n",
    "real_error=np.zeros(SIZE)\n",
    "imag_error=np.zeros(SIZE)\n",
    "ind=np.arange(SIZE)\n",
    "real_rmse=np.zeros(SIZE)\n",
    "imag_rmse=np.zeros(SIZE)\n",
    "a = [i for i in range(SIZE)]\n",
    "a=np.sin(a)+np.cos(a)\n",
    "golden_op=np.fft.fft(a)\n",
    "print(golden_op.real)\n",
    "print(golden_op.imag)"
   ]
  },
  {
   "cell_type": "code",
   "execution_count": 15,
   "id": "9238a98b",
   "metadata": {},
   "outputs": [
    {
     "name": "stdout",
     "output_type": "stream",
     "text": [
      "耗时：: 0.037494659423828125 s\n",
      "[-0.04793191 -0.04796153 -0.04795718 ... -0.04795682 -0.04795718\n",
      " -0.04796153]\n",
      "[ 0.          0.00111404  0.00228716 ... -0.00339744 -0.00228716\n",
      " -0.00111404]\n"
     ]
    }
   ],
   "source": [
    "#内存分配\n",
    "in_real = allocate(shape=(SIZE,), dtype=np.float32) \n",
    "in_img = allocate(shape=(SIZE,), dtype=np.float32)           \n",
    "out_real = allocate(shape=(SIZE,), dtype=np.float32) \n",
    "out_img = allocate(shape=(SIZE,), dtype=np.float32)\n",
    "np.copyto(in_real, a.real)\n",
    "np.copyto(in_img, a.imag)\n",
    "\n",
    "DFT = ol.dft_0\n",
    "start_time = time()\n",
    "\n",
    "DFT.write(0x28, out_real.device_address)\n",
    "DFT.write(0x34, out_img.device_address)\n",
    "DFT.write(0x10, in_real.device_address)\n",
    "DFT.write(0x1c, in_img.device_address)\n",
    "DFT.write(0x00, 0x01)\n",
    "\n",
    "while (DFT.read(0x00) & 0x4) == 0x0:\n",
    "    continue\n",
    "end_time = time()\n",
    "print(\"耗时：: \" + str(end_time - start_time) + \" s\")\n",
    "print(out_real)\n",
    "print(out_img)"
   ]
  },
  {
   "cell_type": "code",
   "execution_count": 16,
   "id": "bca242cb",
   "metadata": {},
   "outputs": [
    {
     "name": "stdout",
     "output_type": "stream",
     "text": [
      "Real RMSE:  1.857401163062513e-05 Imag RMSE: 1.1862265811441198e-05\n",
      "PASS\n"
     ]
    }
   ],
   "source": [
    "#计算RMS误差\n",
    "for i in range(SIZE):\n",
    "    real_error[i]=\"{}\".format(abs(out_real[i]-golden_op.real[i]))\n",
    "    imag_error[i]=\"{}\".format(abs(out_img[i]-golden_op.imag[i]))\n",
    "sum_sq_real=0\n",
    "sum_sq_imag=0\n",
    "for i in range(SIZE):\n",
    "    sum_sq_real +=(real_error[i]*real_error[i])\n",
    "    real_rmse = np.sqrt(sum_sq_real / (i+1))\n",
    "    sum_sq_imag +=(imag_error[i]*imag_error[i])\n",
    "    imag_rmse = np.sqrt(sum_sq_imag / (i+1))\n",
    "print(\"Real RMSE: \", real_rmse, \"Imag RMSE:\", imag_rmse)    \n",
    "if real_rmse < 0.001 and imag_rmse < 0.001:\n",
    "    print(\"PASS\")\n",
    "else:\n",
    "    print(\"FAIL\")"
   ]
  },
  {
   "cell_type": "code",
   "execution_count": 17,
   "id": "65f435c8",
   "metadata": {},
   "outputs": [
    {
     "data": {
      "image/png": "[encoded data removed]",
      "text/plain": [
       "<Figure size 720x360 with 2 Axes>"
      ]
     },
     "metadata": {
      "needs_background": "light"
     },
     "output_type": "display_data"
    }
   ],
   "source": [
    "import matplotlib.pyplot as plt\n",
    "plt.figure(figsize=(10, 5))\n",
    "plt.subplot(1,2,1)\n",
    "plt.bar(ind,real_error)\n",
    "plt.title(\"Real Error\")\n",
    "plt.xlabel(\"Index\")\n",
    "plt.ylabel(\"Error\")\n",
    "plt.tight_layout()\n",
    "\n",
    "plt.subplot(1,2,2)\n",
    "plt.bar(ind,imag_error)\n",
    "plt.title(\"Image Error\")\n",
    "plt.xlabel(\"Index\")\n",
    "plt.ylabel(\"Error\")\n",
    "plt.tight_layout()"
   ]
  },
  {
   "cell_type": "code",
   "execution_count": 18,
   "id": "38d5e2ab",
   "metadata": {},
   "outputs": [
    {
     "data": {
      "image/png": "[encoded data removed]",
      "text/plain": [
       "<Figure size 504x288 with 2 Axes>"
      ]
     },
     "metadata": {
      "needs_background": "light"
     },
     "output_type": "display_data"
    }
   ],
   "source": [
    "freq=np.fft.fftfreq(1024)\n",
    "\n",
    "plt.figure(figsize=(7, 4))\n",
    "plt.subplot(1,2,1)\n",
    "plt.plot(freq,out_real,label='real')\n",
    "plt.plot(freq,out_img,label='imag')\n",
    "plt.title(\"1024-DFT\")\n",
    "plt.xlabel(\"Frequency\")\n",
    "plt.ylabel(\"DFT real and imaginary data\")\n",
    "plt.legend()\n",
    "plt.tight_layout()\n",
    "plt.subplot(1,2,2)\n",
    "plt.plot(freq,golden_op.real,label='real')\n",
    "plt.plot(freq,golden_op.imag,label='imag')\n",
    "plt.title(\"1024-FFT -Numpy\")\n",
    "plt.xlabel(\"Frequency\")\n",
    "plt.ylabel(\"FFT real and imaginary data\")\n",
    "plt.legend()\n",
    "plt.tight_layout()\n",
    "plt.show()"
   ]
  },
  {
   "cell_type": "code",
   "execution_count": null,
   "id": "de681549",
   "metadata": {},
   "outputs": [],
   "source": []
  }
 ],
 "metadata": {
  "kernelspec": {
   "display_name": "Python 3",
   "language": "python",
   "name": "python3"
  },
  "language_info": {
   "codemirror_mode": {
    "name": "ipython",
    "version": 3
   },
   "file_extension": ".py",
   "mimetype": "text/x-python",
   "name": "python",
   "nbconvert_exporter": "python",
   "pygments_lexer": "ipython3",
   "version": "3.8.2"
  }
 },
 "nbformat": 4,
 "nbformat_minor": 5
}
